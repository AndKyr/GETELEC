{
 "cells": [
  {
   "cell_type": "code",
   "execution_count": 1,
   "metadata": {},
   "outputs": [],
   "source": [
    "import numpy as np\n",
    "import os\n",
    "import sys"
   ]
  },
  {
   "cell_type": "code",
   "execution_count": 2,
   "metadata": {},
   "outputs": [],
   "source": [
    "if(os.path.exists(\"./tabulated/2D_512x256/GamowTable.npy\")):\n",
    "    os.remove('./tabulated/2D_512x256/GamowTable.npy')\n",
    "    os.remove('./tabulated/2D_512x256/tabLimits.npy')"
   ]
  },
  {
   "cell_type": "code",
   "execution_count": 3,
   "metadata": {},
   "outputs": [],
   "source": [
    "mainpath,filename = os.path.split(os.path.dirname(os.getcwd()))\n",
    "\n",
    "emissionpath,mainfolder = os.path.split(mainpath)\n",
    "emissionpath,mainfolder = os.path.split(emissionpath)\n",
    "\n",
    "pythonpath = emissionpath + '/mikael/GETELEC/interfaces/web_interface'\n",
    "sys.path.append(pythonpath)"
   ]
  },
  {
   "cell_type": "code",
   "execution_count": 4,
   "metadata": {},
   "outputs": [
    {
     "data": {
      "text/plain": [
       "'/home/mikael/GETELEC/interfaces/web_interface'"
      ]
     },
     "execution_count": 4,
     "metadata": {},
     "output_type": "execute_result"
    }
   ],
   "source": [
    "pythonpath"
   ]
  },
  {
   "cell_type": "code",
   "execution_count": 5,
   "metadata": {},
   "outputs": [
    {
     "name": "stdout",
     "output_type": "stream",
     "text": [
      "tabulation files not found in the path tabulated/2D_512x256\n",
      "Producing tabulator by running:\n",
      "python3 /home/mikael/GETELEC/src/../oldGETELEC/python/tabulateGamow.py -nf 512 -nr 256 -ng 1 -np 4 -nG 128 -o tabulated/2D_512x256\n",
      "/home/mikael/GETELEC/oldGETELEC/lib/libgetelec.so\n",
      " GETELEC: Parameters input file  not found. Default values used.\n",
      "Running table generation script with tablesize $512 ...\n"
     ]
    }
   ],
   "source": [
    "from getelec_online import current_metal_emitter, heat_metal_emitter, spectrum_metal_emitter\n",
    "from getelec_online import current_metal_emitter_threaded"
   ]
  },
  {
   "cell_type": "code",
   "execution_count": 6,
   "metadata": {},
   "outputs": [],
   "source": [
    "if(os.path.exists(\"./tabulated/2D_512x256/GamowTable.npy\")):\n",
    "    os.remove('./tabulated/2D_512x256/GamowTable.npy')\n",
    "    os.remove('./tabulated/2D_512x256/tabLimits.npy')"
   ]
  },
  {
   "cell_type": "code",
   "execution_count": null,
   "metadata": {},
   "outputs": [],
   "source": [
    "def tabulateGamowTable_worker(self, input):\n",
    "\n",
    "    i, j, k = input\n",
    "    field = 1 / self.inverseFieldValues[k]\n",
    "    radius = 1 / self.inverseRadiusValues[j]\n",
    "    gamma = 1 / self.inverseGammaValues[i]\n",
    "    \n",
    "    minimumBarrierDepth = np.array([1.])\n",
    "    maximumBarrierDepth = np.copy(minimumBarrierDepth)\n",
    "    G = np.zeros(self.numberOfGammowValues)\n",
    "    \n",
    "    getelec.export_gamow_for_energy_range(\n",
    "        ct.c_double(field), ct.c_double(radius), ct.c_double(gamma), ct.c_int(self.numberOfGammowValues), \\\n",
    "        ct.c_void_p(minimumBarrierDepth.ctypes.data), ct.c_void_p(maximumBarrierDepth.ctypes.data), ct.c_void_p(G.ctypes.data)\n",
    "    )\n",
    "    \n",
    "    barrierDepths = np.linspace(minimumBarrierDepth[0], maximumBarrierDepth[0], self.numberOfGammowValues)\n",
    "    try:\n",
    "        fittedPolynomialCoefficients = np.polyfit(barrierDepths, G, self.numberOfPolynomialTerms - 1)\n",
    "    except(np.RankWarning):\n",
    "        print(\"Rank Warning for F = %g, R = %g, gamma = %g\" % (field, radius, gamma))\n",
    "        plt.plot(barrierDepths, G)\n",
    "        plt.show()\n",
    "    self.gamowTable[i, j, k, :] = np.append(fittedPolynomialCoefficients, [barrierDepths[0], barrierDepths[-1]])    \n",
    "\n",
    "def tabulateGamowTable_threaded(self, outputFolder = 'tabulated', threads = 8):\n",
    "    \"\"\"Looks for the files where the precaculate barriers are stored. Then it uses interpolation methods to make the most accurate barrier for the given \n",
    "    input (electric field, tip radius and gamma exponent). Gtab is stores the polinomial that gives its shape to the barrier.\n",
    "    \"\"\" \n",
    "\n",
    "    self.gamowTable = np.ones([self.numberOfGammaValues, self.numberOfRadiusValues, self.numberOfFieldValues, self.numberOfPolynomialTerms + 2])\n",
    "\n",
    "    with Pool(processes = threads) as pool:\n",
    "        tasks = (self, [(i, j, k) for i in range(self.numberOfGammaValues) for j in range(self.numberOfRadiusValues) for k in range(self.numberOfFieldValues)])\n",
    "        pool.map(self.tabulateGamowTable_worker, tasks)\n",
    "\n",
    "    if (self.numberOfGammaValues == 1):\n",
    "        self.gamowTable = np.reshape(self.gamowTable, (self.numberOfRadiusValues, self.numberOfFieldValues, self.numberOfPolynomialTerms + 2))\n",
    "        if (self.numberOfRadiusValues == 1):\n",
    "            self.gamowTable = np.reshape(self.gamowTable, (self.numberOfFieldValues, self.numberOfPolynomialTerms + 2))\n",
    "    print(self.gamowTable)\n",
    "\n"
   ]
  }
 ],
 "metadata": {
  "kernelspec": {
   "display_name": "Python 3",
   "language": "python",
   "name": "python3"
  },
  "language_info": {
   "codemirror_mode": {
    "name": "ipython",
    "version": 3
   },
   "file_extension": ".py",
   "mimetype": "text/x-python",
   "name": "python",
   "nbconvert_exporter": "python",
   "pygments_lexer": "ipython3",
   "version": "3.8.10"
  },
  "orig_nbformat": 4,
  "vscode": {
   "interpreter": {
    "hash": "916dbcbb3f70747c44a77c7bcd40155683ae19c65e1c03b4aa3499c5328201f1"
   }
  }
 },
 "nbformat": 4,
 "nbformat_minor": 2
}
