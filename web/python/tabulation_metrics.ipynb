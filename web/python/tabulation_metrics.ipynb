{
 "cells": [
  {
   "cell_type": "code",
   "execution_count": 11,
   "metadata": {},
   "outputs": [],
   "source": [
    "import numpy as np\n",
    "import os\n",
    "import sys"
   ]
  },
  {
   "cell_type": "code",
   "execution_count": 12,
   "metadata": {},
   "outputs": [],
   "source": [
    "if(os.path.exists(\"./tabulated/2D_512x256/GamowTable.npy\")):\n",
    "    os.remove('./tabulated/2D_512x256/GamowTable.npy')\n",
    "    os.remove('./tabulated/2D_512x256/tabLimits.npy')"
   ]
  },
  {
   "cell_type": "code",
   "execution_count": 13,
   "metadata": {},
   "outputs": [
    {
     "ename": "NameError",
     "evalue": "name 'sys' is not defined",
     "output_type": "error",
     "traceback": [
      "\u001b[0;31m---------------------------------------------------------------------------\u001b[0m",
      "\u001b[0;31mNameError\u001b[0m                                 Traceback (most recent call last)",
      "Cell \u001b[0;32mIn [13], line 7\u001b[0m\n\u001b[1;32m      4\u001b[0m emissionpath,mainfolder \u001b[39m=\u001b[39m os\u001b[39m.\u001b[39mpath\u001b[39m.\u001b[39msplit(emissionpath)\n\u001b[1;32m      6\u001b[0m pythonpath \u001b[39m=\u001b[39m emissionpath \u001b[39m+\u001b[39m \u001b[39m'\u001b[39m\u001b[39m/mikael/GETELEC/interfaces/web_interface\u001b[39m\u001b[39m'\u001b[39m\n\u001b[0;32m----> 7\u001b[0m sys\u001b[39m.\u001b[39mpath\u001b[39m.\u001b[39mappend(pythonpath)\n",
      "\u001b[0;31mNameError\u001b[0m: name 'sys' is not defined"
     ]
    }
   ],
   "source": [
    "mainpath,filename = os.path.split(os.path.dirname(os.getcwd()))\n",
    "\n",
    "emissionpath,mainfolder = os.path.split(mainpath)\n",
    "emissionpath,mainfolder = os.path.split(emissionpath)\n",
    "\n",
    "pythonpath = emissionpath + '/mikael/GETELEC/interfaces/web_interface'\n",
    "sys.path.append(pythonpath)"
   ]
  }
 ],
 "metadata": {
  "kernelspec": {
   "display_name": "Python 3",
   "language": "python",
   "name": "python3"
  },
  "language_info": {
   "codemirror_mode": {
    "name": "ipython",
    "version": 3
   },
   "file_extension": ".py",
   "mimetype": "text/x-python",
   "name": "python",
   "nbconvert_exporter": "python",
   "pygments_lexer": "ipython3",
   "version": "3.8.10"
  },
  "orig_nbformat": 4,
  "vscode": {
   "interpreter": {
    "hash": "916dbcbb3f70747c44a77c7bcd40155683ae19c65e1c03b4aa3499c5328201f1"
   }
  }
 },
 "nbformat": 4,
 "nbformat_minor": 2
}
