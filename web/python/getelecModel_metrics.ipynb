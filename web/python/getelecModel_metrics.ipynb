{
 "cells": [
  {
   "attachments": {},
   "cell_type": "markdown",
   "metadata": {},
   "source": [
    "The goal is to make sure code runs as intended and measure performance improvements in relation to old code\n"
   ]
  },
  {
   "attachments": {},
   "cell_type": "markdown",
   "metadata": {},
   "source": [
    "PART 1: TESTING"
   ]
  },
  {
   "cell_type": "code",
   "execution_count": 1,
   "metadata": {},
   "outputs": [
    {
     "name": "stdout",
     "output_type": "stream",
     "text": [
      "/home/mikael/GETELEC/src\n"
     ]
    }
   ],
   "source": [
    "import os\n",
    "import sys\n",
    "\n",
    "cwd = os.getcwd()\n",
    "\n",
    "cwd = os.path.abspath(os.path.join(cwd, \"..\", \"..\")) + \"/src\"\n",
    "\n",
    "print(cwd)\n",
    "sys.path.append(cwd)"
   ]
  },
  {
   "cell_type": "code",
   "execution_count": 2,
   "metadata": {},
   "outputs": [],
   "source": [
    "from getelecModel import GETELECModel as GTM"
   ]
  },
  {
   "cell_type": "code",
   "execution_count": 3,
   "metadata": {},
   "outputs": [],
   "source": [
    "gtm = GTM()"
   ]
  },
  {
   "attachments": {},
   "cell_type": "markdown",
   "metadata": {},
   "source": [
    "Now let's see what properties the model has before we do anything"
   ]
  },
  {
   "cell_type": "code",
   "execution_count": 4,
   "metadata": {},
   "outputs": [
    {
     "data": {
      "text/plain": [
       "{'bandGap': None,\n",
       " 'conductionBandBottom': None,\n",
       " 'effectiveMassConduction': None,\n",
       " 'effectiveMassValence': None,\n",
       " 'emitter': None,\n",
       " 'emitterType': None,\n",
       " 'fermiLevel': None,\n",
       " 'field': None,\n",
       " 'gamma': None,\n",
       " 'numberOfSpectrumPoints': None,\n",
       " 'radius': None,\n",
       " 'temperature': None,\n",
       " 'workFunction': None}"
      ]
     },
     "execution_count": 4,
     "metadata": {},
     "output_type": "execute_result"
    }
   ],
   "source": [
    "gtm.getParameters()"
   ]
  },
  {
   "attachments": {},
   "cell_type": "markdown",
   "metadata": {},
   "source": [
    "Let's create some dummy data"
   ]
  },
  {
   "cell_type": "code",
   "execution_count": 5,
   "metadata": {},
   "outputs": [],
   "source": [
    "import numpy as np\n",
    "\n",
    "field = np.array([1, 2, 3, 4, 5])\n",
    "radius = np.full(5, 50)\n",
    "gamma = np.full(5, 10)\n",
    "workFunction = np.full(5, 4)\n",
    "temperature = np.full(5, 300)\n",
    "\n",
    "conductionBandBottom = 4.05\n",
    "fermiLevel = 4.61\n",
    "bandGap = 1.12\n",
    "effectiveMassConduction = 0.7\n",
    "effectiveMassValence = 0.5\n",
    "\n",
    "numberOfSpectrumPoints = 8\n"
   ]
  },
  {
   "attachments": {},
   "cell_type": "markdown",
   "metadata": {},
   "source": [
    "TEST 1: calling properties that were not yet calculated"
   ]
  },
  {
   "cell_type": "code",
   "execution_count": 6,
   "metadata": {},
   "outputs": [
    {
     "name": "stdout",
     "output_type": "stream",
     "text": [
      "WARNING, you have asked currentDensity without calculating it first. You might want to run getelecModel.run(calculateCurrentDensity=True) first\n",
      "None\n",
      "WARNING, you have asked Electron Spectrum without calculating it first. You might want to run getelecModel.run(calculateElectronSpectrum=True) first\n",
      "None\n",
      "WARNING, you have asked Nottingham heat without calculating it first. You might want to run getelecModel.run(calculateNottinghamHeat=True) first\n",
      "None\n"
     ]
    }
   ],
   "source": [
    "print(gtm.getCurrentDensity())\n",
    "print(gtm.getElectronSpectrum())\n",
    "print(gtm.getNottinghamHeat())"
   ]
  },
  {
   "cell_type": "code",
   "execution_count": 7,
   "metadata": {},
   "outputs": [
    {
     "data": {
      "text/plain": [
       "{'bandGap': None,\n",
       " 'conductionBandBottom': None,\n",
       " 'effectiveMassConduction': None,\n",
       " 'effectiveMassValence': None,\n",
       " 'emitter': None,\n",
       " 'emitterType': None,\n",
       " 'fermiLevel': None,\n",
       " 'field': None,\n",
       " 'gamma': None,\n",
       " 'numberOfSpectrumPoints': None,\n",
       " 'radius': None,\n",
       " 'temperature': None,\n",
       " 'workFunction': None}"
      ]
     },
     "execution_count": 7,
     "metadata": {},
     "output_type": "execute_result"
    }
   ],
   "source": [
    "gtm.getParameters()"
   ]
  },
  {
   "attachments": {},
   "cell_type": "markdown",
   "metadata": {},
   "source": [
    "TEST 2: assigning property in model instantiation (METALS)"
   ]
  },
  {
   "cell_type": "code",
   "execution_count": 8,
   "metadata": {},
   "outputs": [],
   "source": [
    "gtm = GTM(emitterType = 'metal', field = field, radius = radius, gamma = gamma, workFunction = workFunction, temperature = temperature, numberOfSpectrumPoints = numberOfSpectrumPoints)"
   ]
  },
  {
   "cell_type": "code",
   "execution_count": 9,
   "metadata": {},
   "outputs": [
    {
     "data": {
      "text/plain": [
       "{'bandGap': None,\n",
       " 'conductionBandBottom': None,\n",
       " 'effectiveMassConduction': None,\n",
       " 'effectiveMassValence': None,\n",
       " 'emitter': None,\n",
       " 'emitterType': 'metal',\n",
       " 'fermiLevel': None,\n",
       " 'field': array([1, 2, 3, 4, 5]),\n",
       " 'gamma': array([10, 10, 10, 10, 10]),\n",
       " 'numberOfSpectrumPoints': 8,\n",
       " 'radius': array([50, 50, 50, 50, 50]),\n",
       " 'temperature': array([300, 300, 300, 300, 300]),\n",
       " 'workFunction': array([4, 4, 4, 4, 4])}"
      ]
     },
     "execution_count": 9,
     "metadata": {},
     "output_type": "execute_result"
    }
   ],
   "source": [
    "gtm.getParameters()"
   ]
  },
  {
   "attachments": {},
   "cell_type": "markdown",
   "metadata": {},
   "source": [
    "TEST 3: running all calculations"
   ]
  },
  {
   "cell_type": "code",
   "execution_count": 10,
   "metadata": {},
   "outputs": [
    {
     "ename": "AttributeError",
     "evalue": "'NoneType' object has no attribute 'barrier'",
     "output_type": "error",
     "traceback": [
      "\u001b[0;31m---------------------------------------------------------------------------\u001b[0m",
      "\u001b[0;31mAttributeError\u001b[0m                            Traceback (most recent call last)",
      "Cell \u001b[0;32mIn [10], line 1\u001b[0m\n\u001b[0;32m----> 1\u001b[0m gtm\u001b[39m.\u001b[39;49mrun(calculateCurrent\u001b[39m=\u001b[39;49m\u001b[39mTrue\u001b[39;49;00m, calculateNottinghamHeat\u001b[39m=\u001b[39;49m\u001b[39mTrue\u001b[39;49;00m, calculateSpectrum\u001b[39m=\u001b[39;49m\u001b[39mTrue\u001b[39;49;00m)\n\u001b[1;32m      3\u001b[0m \u001b[39mprint\u001b[39m(\u001b[39mf\u001b[39m\u001b[39m'\u001b[39m\u001b[39mCurrent Density: $\u001b[39m\u001b[39m{\u001b[39;00mgtm\u001b[39m.\u001b[39mgetCurrentDensity()\u001b[39m}\u001b[39;00m\u001b[39m,\u001b[39m\u001b[39m\\n\u001b[39;00m\u001b[39mNottingham Heat: $\u001b[39m\u001b[39m{\u001b[39;00mgtm\u001b[39m.\u001b[39mgetNottinghamHeat()\u001b[39m}\u001b[39;00m\u001b[39m,\u001b[39m\u001b[39m\\n\u001b[39;00m\u001b[39mElectronSpectrum: $\u001b[39m\u001b[39m{\u001b[39;00mgtm\u001b[39m.\u001b[39mgetElectronSpectrum()\u001b[39m}\u001b[39;00m\u001b[39m'\u001b[39m)\n",
      "File \u001b[0;32m~/GETELEC/src/getelecModel.py:249\u001b[0m, in \u001b[0;36mGETELECModel.run\u001b[0;34m(self, calculateCurrent, calculateNottinghamHeat, calculateSpectrum)\u001b[0m\n\u001b[1;32m    245\u001b[0m kT \u001b[39m=\u001b[39m Globals\u001b[39m.\u001b[39mBoltzmannConstant \u001b[39m*\u001b[39m np\u001b[39m.\u001b[39marray(\u001b[39mself\u001b[39m\u001b[39m.\u001b[39mtemperature, dtype\u001b[39m=\u001b[39m\u001b[39mfloat\u001b[39m)\n\u001b[1;32m    247\u001b[0m \u001b[39mfor\u001b[39;00m i \u001b[39min\u001b[39;00m \u001b[39mrange\u001b[39m(\u001b[39mlen\u001b[39m(\u001b[39mself\u001b[39m\u001b[39m.\u001b[39mfield)):\n\u001b[0;32m--> 249\u001b[0m     \u001b[39mself\u001b[39;49m\u001b[39m.\u001b[39;49memitter\u001b[39m.\u001b[39;49mbarrier\u001b[39m.\u001b[39msetParameters(getArgument(\u001b[39mself\u001b[39m\u001b[39m.\u001b[39mfield, i), getArgument(\u001b[39mself\u001b[39m\u001b[39m.\u001b[39mradius, i), getArgument(\u001b[39mself\u001b[39m\u001b[39m.\u001b[39mgamma, i))\n\u001b[1;32m    251\u001b[0m     \u001b[39mif\u001b[39;00m(\u001b[39mself\u001b[39m\u001b[39m.\u001b[39memitterType \u001b[39m==\u001b[39m \u001b[39m'\u001b[39m\u001b[39mmetal\u001b[39m\u001b[39m'\u001b[39m):\n\u001b[1;32m    253\u001b[0m         \u001b[39mself\u001b[39m\u001b[39m.\u001b[39memitter\u001b[39m.\u001b[39msetParameters(getArgument(\u001b[39mself\u001b[39m\u001b[39m.\u001b[39mworkFunction, i), getArgument(kT, i))\n",
      "\u001b[0;31mAttributeError\u001b[0m: 'NoneType' object has no attribute 'barrier'"
     ]
    }
   ],
   "source": [
    "gtm.run(calculateCurrent=True, calculateNottinghamHeat=True, calculateSpectrum=True)\n",
    "\n",
    "print(f'Current Density: ${gtm.getCurrentDensity()},\\nNottingham Heat: ${gtm.getNottinghamHeat()},\\nElectronSpectrum: ${gtm.getElectronSpectrum()}')"
   ]
  },
  {
   "cell_type": "code",
   "execution_count": null,
   "metadata": {},
   "outputs": [
    {
     "data": {
      "text/plain": [
       "{'bandGap': None,\n",
       " 'conductionBandBottom': None,\n",
       " 'effectiveMassConduction': None,\n",
       " 'effectiveMassValence': None,\n",
       " 'emitter': <getelec.MetalEmitter at 0x7fa3b3a9be20>,\n",
       " 'emitterType': 'metal',\n",
       " 'fermiLevel': None,\n",
       " 'field': array([1, 2, 3, 4, 5]),\n",
       " 'gamma': array([10, 10, 10, 10, 10]),\n",
       " 'numberOfSpectrumPoints': 8,\n",
       " 'radius': array([50, 50, 50, 50, 50]),\n",
       " 'temperature': array([300, 300, 300, 300, 300]),\n",
       " 'workFunction': array([4, 4, 4, 4, 4])}"
      ]
     },
     "execution_count": 11,
     "metadata": {},
     "output_type": "execute_result"
    }
   ],
   "source": [
    "gtm.getParameters()"
   ]
  },
  {
   "attachments": {},
   "cell_type": "markdown",
   "metadata": {},
   "source": [
    "TEST 4: see what happens when data changes"
   ]
  },
  {
   "cell_type": "code",
   "execution_count": null,
   "metadata": {},
   "outputs": [
    {
     "name": "stdout",
     "output_type": "stream",
     "text": [
      "[1 2 3 4 5]\n",
      "[2 3 4 5 6]\n"
     ]
    }
   ],
   "source": [
    "print(gtm.field)\n",
    "gtm.setParameters(field = np.array([2, 3, 4, 5, 6]))\n",
    "print(gtm.field)"
   ]
  },
  {
   "cell_type": "code",
   "execution_count": null,
   "metadata": {},
   "outputs": [
    {
     "name": "stdout",
     "output_type": "stream",
     "text": [
      "WARNING, you have asked currentDensity without calculating it first. You might want to run getelecModel.run(calculateCurrentDensity=True) first\n"
     ]
    }
   ],
   "source": [
    "gtm.getCurrentDensity()"
   ]
  },
  {
   "cell_type": "code",
   "execution_count": null,
   "metadata": {},
   "outputs": [
    {
     "name": "stdout",
     "output_type": "stream",
     "text": [
      "[4.99385567e-16 1.06113266e-11 1.57722206e-09 3.26236555e-08\n",
      " 2.50997005e-07]\n"
     ]
    }
   ],
   "source": [
    "gtm.calculateCurrentDensity()\n",
    "print(gtm.getCurrentDensity())"
   ]
  },
  {
   "attachments": {},
   "cell_type": "markdown",
   "metadata": {},
   "source": [
    "TEST 5: instantiating SEMICONDUCTOR"
   ]
  },
  {
   "cell_type": "code",
   "execution_count": null,
   "metadata": {},
   "outputs": [
    {
     "data": {
      "text/plain": [
       "<getelecModel.GETELECModel at 0x7fa3b18f4250>"
      ]
     },
     "execution_count": 15,
     "metadata": {},
     "output_type": "execute_result"
    }
   ],
   "source": [
    "gtm = GTM()\n",
    "\n",
    "gtm.setParameters(emitterType='semiconductor', field = field, radius = radius, gamma = gamma, conductionBandBottom = conductionBandBottom, fermiLevel = fermiLevel, bandGap = bandGap, effectiveMassConduction = effectiveMassConduction, effectiveMassValence = effectiveMassValence, numberOfSpectrumPoints = 8, temperature = temperature, workFunction = workFunction)"
   ]
  },
  {
   "cell_type": "code",
   "execution_count": null,
   "metadata": {},
   "outputs": [
    {
     "name": "stdout",
     "output_type": "stream",
     "text": [
      "<getelec.SemiconductorEmitter object at 0x7fa3b18f4040>\n"
     ]
    }
   ],
   "source": [
    "gtm.getParameters()\n",
    "print(gtm.emitter)"
   ]
  },
  {
   "cell_type": "code",
   "execution_count": null,
   "metadata": {},
   "outputs": [
    {
     "name": "stdout",
     "output_type": "stream",
     "text": [
      "Current Density: $[-1.20435449e-25  6.09906305e-19  9.99617995e-14  3.98299313e-11\n",
      "  1.47354071e-09],\n",
      "Nottingham Heat: $[-1.10671221e-25  3.80027245e-19  6.84328117e-14  2.96438993e-11\n",
      "  1.18186792e-09],\n",
      "ElectronSpectrum: ${'energy': [array([-2.36865954, -2.05721629, -1.74577303, -1.43432977, -1.12288651,\n",
      "       -0.81144326, -0.5       ,  2.97790311,  3.02580622,  3.07370933,\n",
      "        3.12161245,  3.16951556,  3.21741867,  3.26532178]), array([-2.36865954, -2.05721629, -1.74577303, -1.43432977, -1.12288651,\n",
      "       -0.81144326, -0.5       ,  2.96674774,  3.00349547,  3.04024321,\n",
      "        3.07699094,  3.11373868,  3.15048642,  3.18723415]), array([-2.36865954, -2.05721629, -1.74577303, -1.43432977, -1.12288651,\n",
      "       -0.81144326, -0.5       ,  2.96414346,  2.99828691,  3.03243037,\n",
      "        3.06657382,  3.10071728,  3.13486074,  3.16900419]), array([-2.36865954, -2.05721629, -1.74577303, -1.43432977, -1.12288651,\n",
      "       -0.81144326, -0.5       ,  2.96297262,  2.99594525,  3.02891787,\n",
      "        3.06189049,  3.09486312,  3.12783574,  3.16080836]), array([-2.36865954, -2.05721629, -1.74577303, -1.43432977, -1.12288651,\n",
      "       -0.81144326, -0.5       ,  2.96230247,  2.99460494,  3.02690741,\n",
      "        3.05920989,  3.09151236,  3.12381483,  3.1561173 ])], 'electronCount': [array([1.72465785e-34, 1.72465785e-34, 1.72465785e-34, 1.72465787e-34,\n",
      "       1.72468693e-34, 1.76138080e-34, 4.11675047e-48, 7.05166760e-59,\n",
      "       3.78729857e-59, 1.52800730e-59, 5.48266181e-60, 1.84012394e-60,\n",
      "       5.88958815e-61, 1.80822811e-61]), array([1.72465785e-34, 1.72465785e-34, 1.72465785e-34, 1.72465787e-34,\n",
      "       1.72468693e-34, 1.76138080e-34, 4.11675047e-48, 2.44066995e-56,\n",
      "       1.28340403e-56, 5.00284084e-57, 1.71574533e-57, 5.46530525e-58,\n",
      "       1.65742347e-58, 4.85109132e-59]), array([1.72465785e-34, 1.72465785e-34, 1.72465785e-34, 1.72465787e-34,\n",
      "       1.72468693e-34, 1.76138080e-34, 4.11675047e-48, 4.03387808e-56,\n",
      "       2.18031858e-56, 8.81614161e-57, 3.16361882e-57, 1.06292293e-57,\n",
      "       3.42472867e-58, 1.07182242e-58]), array([1.72465785e-34, 1.72465785e-34, 1.72465785e-34, 1.72465787e-34,\n",
      "       1.72468693e-34, 1.76138080e-34, 4.11675047e-48, 4.31914021e-56,\n",
      "       2.42266580e-56, 1.01780075e-56, 3.79849541e-57, 1.32845418e-57,\n",
      "       4.45873255e-58, 1.45454601e-58]), array([1.72465785e-34, 1.72465785e-34, 1.72465785e-34, 1.72465787e-34,\n",
      "       1.72468693e-34, 1.76138080e-34, 4.11675047e-48, 4.40914440e-56,\n",
      "       2.53329314e-56, 1.09044437e-56, 4.17054506e-57, 1.49502199e-57,\n",
      "       5.14400321e-58, 1.72054677e-58])]}\n"
     ]
    }
   ],
   "source": [
    "gtm.run(True, True, True)\n",
    "\n",
    "print(f'Current Density: ${gtm.getCurrentDensity()},\\nNottingham Heat: ${gtm.getNottinghamHeat()},\\nElectronSpectrum: ${gtm.getElectronSpectrum()}')"
   ]
  },
  {
   "cell_type": "code",
   "execution_count": null,
   "metadata": {},
   "outputs": [],
   "source": [
    "new_gtm = GTM('metal', field=field, radius=radius, gamma=gamma, workFunction=workFunction, temperature=temperature)"
   ]
  },
  {
   "cell_type": "code",
   "execution_count": null,
   "metadata": {},
   "outputs": [
    {
     "data": {
      "text/plain": [
       "array([2.15675678e-27, 4.99385567e-16, 1.06113266e-11, 1.57722206e-09,\n",
       "       3.26236555e-08])"
      ]
     },
     "execution_count": 34,
     "metadata": {},
     "output_type": "execute_result"
    }
   ],
   "source": [
    "new_gtm.calculateCurrentDensity().currentDensity"
   ]
  }
 ],
 "metadata": {
  "kernelspec": {
   "display_name": "Python 3",
   "language": "python",
   "name": "python3"
  },
  "language_info": {
   "codemirror_mode": {
    "name": "ipython",
    "version": 3
   },
   "file_extension": ".py",
   "mimetype": "text/x-python",
   "name": "python",
   "nbconvert_exporter": "python",
   "pygments_lexer": "ipython3",
   "version": "3.8.10"
  },
  "orig_nbformat": 4,
  "vscode": {
   "interpreter": {
    "hash": "916dbcbb3f70747c44a77c7bcd40155683ae19c65e1c03b4aa3499c5328201f1"
   }
  }
 },
 "nbformat": 4,
 "nbformat_minor": 2
}
