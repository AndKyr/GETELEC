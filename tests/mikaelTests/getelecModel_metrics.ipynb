{
 "cells": [
  {
   "attachments": {},
   "cell_type": "markdown",
   "metadata": {},
   "source": [
    "The goal is to make sure code runs as intended and measure performance improvements in relation to old code\n"
   ]
  },
  {
   "attachments": {},
   "cell_type": "markdown",
   "metadata": {},
   "source": [
    "PART 1: TESTING"
   ]
  },
  {
   "cell_type": "code",
   "execution_count": 2,
   "metadata": {},
   "outputs": [
    {
     "name": "stdout",
     "output_type": "stream",
     "text": [
      "/home/mikael/GETELEC/src\n"
     ]
    }
   ],
   "source": [
    "import os\n",
    "import sys\n",
    "\n",
    "cwd = os.getcwd()\n",
    "\n",
    "cwd = os.path.abspath(os.path.join(cwd, \"..\", \"..\")) + \"/src\"\n",
    "\n",
    "print(cwd)\n",
    "sys.path.append(cwd)"
   ]
  },
  {
   "cell_type": "code",
   "execution_count": 3,
   "metadata": {},
   "outputs": [],
   "source": [
    "from getelec import GETELECModel as GTM"
   ]
  },
  {
   "cell_type": "code",
   "execution_count": 4,
   "metadata": {},
   "outputs": [],
   "source": [
    "gtm = GTM()"
   ]
  },
  {
   "attachments": {},
   "cell_type": "markdown",
   "metadata": {},
   "source": [
    "Now let's see what properties the model has before we do anything"
   ]
  },
  {
   "cell_type": "code",
   "execution_count": 5,
   "metadata": {},
   "outputs": [
    {
     "data": {
      "text/plain": [
       "{'bandGap': None,\n",
       " 'conductionBandBottom': None,\n",
       " 'effectiveMassConduction': None,\n",
       " 'effectiveMassValence': None,\n",
       " 'emitter': None,\n",
       " 'emitterType': None,\n",
       " 'field': None,\n",
       " 'gamma': None,\n",
       " 'numberOfSpectrumPoints': None,\n",
       " 'radius': None,\n",
       " 'temperature': None,\n",
       " 'workFunction': None}"
      ]
     },
     "execution_count": 5,
     "metadata": {},
     "output_type": "execute_result"
    }
   ],
   "source": [
    "gtm.getParameters()"
   ]
  },
  {
   "attachments": {},
   "cell_type": "markdown",
   "metadata": {},
   "source": [
    "Let's create some dummy data"
   ]
  },
  {
   "cell_type": "code",
   "execution_count": 6,
   "metadata": {},
   "outputs": [],
   "source": [
    "import numpy as np\n",
    "\n",
    "field = np.array([1, 2, 3, 4, 5])\n",
    "radius = np.full(5, 50)\n",
    "gamma = np.full(5, 10)\n",
    "workFunction = np.full(5, 4)\n",
    "temperature = np.full(5, 300)\n",
    "\n",
    "conductionBandBottom = 4.05\n",
    "fermiLevel = 4.61\n",
    "bandGap = 1.12\n",
    "effectiveMassConduction = 0.7\n",
    "effectiveMassValence = 0.5\n",
    "\n",
    "numberOfSpectrumPoints = 8\n"
   ]
  },
  {
   "attachments": {},
   "cell_type": "markdown",
   "metadata": {},
   "source": [
    "TEST 1: calling properties that were not yet calculated"
   ]
  },
  {
   "cell_type": "code",
   "execution_count": 7,
   "metadata": {},
   "outputs": [
    {
     "name": "stdout",
     "output_type": "stream",
     "text": [
      "WARNING, you have asked currentDensity without calculating it first. You might want to run getelecModel.run(calculateCurrentDensity=True) first\n",
      "None\n",
      "WARNING, you have asked Electron Spectrum without calculating it first. You might want to run getelecModel.run(calculateElectronSpectrum=True) first\n",
      "None\n",
      "WARNING, you have asked Nottingham heat without calculating it first. You might want to run getelecModel.run(calculateNottinghamHeat=True) first\n",
      "None\n"
     ]
    }
   ],
   "source": [
    "print(gtm.getCurrentDensity())\n",
    "print(gtm.getElectronSpectrum())\n",
    "print(gtm.getNottinghamHeat())"
   ]
  },
  {
   "cell_type": "code",
   "execution_count": 8,
   "metadata": {},
   "outputs": [
    {
     "data": {
      "text/plain": [
       "{'bandGap': None,\n",
       " 'conductionBandBottom': None,\n",
       " 'effectiveMassConduction': None,\n",
       " 'effectiveMassValence': None,\n",
       " 'emitter': None,\n",
       " 'emitterType': None,\n",
       " 'field': None,\n",
       " 'gamma': None,\n",
       " 'numberOfSpectrumPoints': None,\n",
       " 'radius': None,\n",
       " 'temperature': None,\n",
       " 'workFunction': None}"
      ]
     },
     "execution_count": 8,
     "metadata": {},
     "output_type": "execute_result"
    }
   ],
   "source": [
    "gtm.getParameters()"
   ]
  },
  {
   "attachments": {},
   "cell_type": "markdown",
   "metadata": {},
   "source": [
    "TEST 2: assigning property in model instantiation (METALS)"
   ]
  },
  {
   "cell_type": "code",
   "execution_count": 9,
   "metadata": {},
   "outputs": [],
   "source": [
    "gtm = GTM(emitterType = 'metal', field = field, radius = radius, gamma = gamma, workFunction = workFunction, temperature = temperature, numberOfSpectrumPoints = numberOfSpectrumPoints)"
   ]
  },
  {
   "cell_type": "code",
   "execution_count": 10,
   "metadata": {},
   "outputs": [
    {
     "data": {
      "text/plain": [
       "{'bandGap': None,\n",
       " 'conductionBandBottom': None,\n",
       " 'effectiveMassConduction': None,\n",
       " 'effectiveMassValence': None,\n",
       " 'emitter': <getelec.MetalEmitter at 0x7f2b754a05e0>,\n",
       " 'emitterType': 'metal',\n",
       " 'field': array([1, 2, 3, 4, 5]),\n",
       " 'gamma': array([10, 10, 10, 10, 10]),\n",
       " 'numberOfSpectrumPoints': 8,\n",
       " 'radius': array([50, 50, 50, 50, 50]),\n",
       " 'temperature': array([300, 300, 300, 300, 300]),\n",
       " 'workFunction': array([4, 4, 4, 4, 4])}"
      ]
     },
     "execution_count": 10,
     "metadata": {},
     "output_type": "execute_result"
    }
   ],
   "source": [
    "gtm.getParameters()"
   ]
  },
  {
   "attachments": {},
   "cell_type": "markdown",
   "metadata": {},
   "source": [
    "TEST 3: running all calculations"
   ]
  },
  {
   "cell_type": "code",
   "execution_count": 11,
   "metadata": {},
   "outputs": [
    {
     "name": "stdout",
     "output_type": "stream",
     "text": [
      "Current Density: $[2.1567567840469112e-27, 4.993855668078265e-16, 1.0611326591156988e-11, 1.5772220643254336e-09, 3.262365550808128e-08],\n",
      "Nottingham Heat: $[2.3191612012695837e-28, 2.9979063948607194e-17, 1.1877215474354093e-12, 2.4817685970344834e-10, 6.516298495660588e-09],\n",
      "ElectronSpectrum: ${'energy': [array([-0.22649641, -0.10410143,  0.01829355,  0.14068853,  0.26308351,\n",
      "        0.38547849,  0.50787347]), array([-0.57297842, -0.42903746, -0.2850965 , -0.14115554,  0.00278543,\n",
      "        0.14672639,  0.29066735]), array([-0.89192145, -0.700664  , -0.50940655, -0.3181491 , -0.12689166,\n",
      "        0.06436579,  0.25562324]), array([-1.20206434e+00, -9.61482513e-01, -7.20900686e-01, -4.80318858e-01,\n",
      "       -2.39737030e-01,  8.44797612e-04,  2.41426625e-01]), array([-1.50519993, -1.21537536, -0.92555078, -0.63572621, -0.34590164,\n",
      "       -0.05607706,  0.23374751])], 'electronCount': [array([2.28223894e-30, 3.95274154e-29, 2.11855743e-28, 4.81773912e-29,\n",
      "       6.87411332e-30, 9.19562998e-31, 1.16560458e-31]), array([5.30027579e-18, 3.48496474e-17, 1.94656253e-16, 1.02977136e-15,\n",
      "       2.31757539e-15, 1.04489037e-16, 2.14029532e-18]), array([5.59285475e-14, 3.21334550e-13, 1.53819600e-12, 6.95085421e-12,\n",
      "       2.96979947e-11, 9.41495679e-12, 4.23737421e-14]), array([5.24314609e-12, 2.85820361e-11, 1.27131694e-10, 5.41442366e-10,\n",
      "       2.22280740e-09, 4.33177479e-09, 2.77417948e-12]), array([7.34688820e-11, 3.98002799e-10, 1.78148591e-09, 7.45738630e-09,\n",
      "       2.98652740e-08, 1.03008403e-07, 5.48512223e-11])]}\n"
     ]
    }
   ],
   "source": [
    "gtm.run(calculateCurrent=True, calculateNottinghamHeat=True, calculateSpectrum=True)\n",
    "\n",
    "print(f'Current Density: ${gtm.getCurrentDensity()},\\nNottingham Heat: ${gtm.getNottinghamHeat()},\\nElectronSpectrum: ${gtm.getElectronSpectrum()}')"
   ]
  },
  {
   "cell_type": "code",
   "execution_count": 12,
   "metadata": {},
   "outputs": [
    {
     "data": {
      "text/plain": [
       "{'bandGap': None,\n",
       " 'conductionBandBottom': None,\n",
       " 'effectiveMassConduction': None,\n",
       " 'effectiveMassValence': None,\n",
       " 'emitter': <getelec.MetalEmitter at 0x7f2b754a05e0>,\n",
       " 'emitterType': 'metal',\n",
       " 'field': array([1, 2, 3, 4, 5]),\n",
       " 'gamma': array([10, 10, 10, 10, 10]),\n",
       " 'numberOfSpectrumPoints': 8,\n",
       " 'radius': array([50, 50, 50, 50, 50]),\n",
       " 'temperature': array([300, 300, 300, 300, 300]),\n",
       " 'workFunction': array([4, 4, 4, 4, 4])}"
      ]
     },
     "execution_count": 12,
     "metadata": {},
     "output_type": "execute_result"
    }
   ],
   "source": [
    "gtm.getParameters()"
   ]
  },
  {
   "attachments": {},
   "cell_type": "markdown",
   "metadata": {},
   "source": [
    "TEST 4: see what happens when data changes"
   ]
  },
  {
   "cell_type": "code",
   "execution_count": 13,
   "metadata": {},
   "outputs": [
    {
     "name": "stdout",
     "output_type": "stream",
     "text": [
      "[1 2 3 4 5]\n",
      "[2 3 4 5 6]\n"
     ]
    }
   ],
   "source": [
    "print(gtm.field)\n",
    "gtm.setParameters(field = np.array([2, 3, 4, 5, 6]))\n",
    "print(gtm.field)"
   ]
  },
  {
   "cell_type": "code",
   "execution_count": 14,
   "metadata": {},
   "outputs": [
    {
     "name": "stdout",
     "output_type": "stream",
     "text": [
      "WARNING, you have asked currentDensity without calculating it first. You might want to run getelecModel.run(calculateCurrentDensity=True) first\n"
     ]
    }
   ],
   "source": [
    "gtm.getCurrentDensity()"
   ]
  },
  {
   "cell_type": "code",
   "execution_count": 15,
   "metadata": {},
   "outputs": [
    {
     "name": "stdout",
     "output_type": "stream",
     "text": [
      "[4.993855668078265e-16, 1.0611326591156988e-11, 1.5772220643254336e-09, 3.262365550808128e-08, 2.509970053610359e-07]\n"
     ]
    }
   ],
   "source": [
    "gtm.calculateCurrentDensity()\n",
    "print(gtm.getCurrentDensity())"
   ]
  },
  {
   "attachments": {},
   "cell_type": "markdown",
   "metadata": {},
   "source": [
    "TEST 5: big data"
   ]
  },
  {
   "cell_type": "code",
   "execution_count": 16,
   "metadata": {},
   "outputs": [],
   "source": [
    "field = np.linspace(1, 10, 1000)\n",
    "radius = np.full(1000, 50)\n",
    "gamma = np.full(1000, 10)\n",
    "workFunction = np.full(1000, 4)\n",
    "temperature = np.full(1000, 300)\n",
    "\n",
    "conductionBandBottom = 4.05\n",
    "fermiLevel = 4.61\n",
    "bandGap = 1.12\n",
    "effectiveMassConduction = 0.7\n",
    "effectiveMassValence = 0.5\n",
    "\n",
    "numberOfSpectrumPoints = 8"
   ]
  },
  {
   "cell_type": "code",
   "execution_count": 17,
   "metadata": {},
   "outputs": [],
   "source": [
    "gtm = GTM(emitterType = 'metal', field = field, radius = radius, gamma = gamma, workFunction = workFunction, temperature = temperature, numberOfSpectrumPoints = numberOfSpectrumPoints)"
   ]
  },
  {
   "cell_type": "code",
   "execution_count": 18,
   "metadata": {},
   "outputs": [
    {
     "ename": "",
     "evalue": "",
     "output_type": "error",
     "traceback": [
      "\u001b[1;31mCanceled future for execute_request message before replies were done"
     ]
    },
    {
     "ename": "",
     "evalue": "",
     "output_type": "error",
     "traceback": [
      "\u001b[1;31mThe Kernel crashed while executing code in the the current cell or a previous cell. Please review the code in the cell(s) to identify a possible cause of the failure. Click <a href='https://aka.ms/vscodeJupyterKernelCrash'>here</a> for more info. View Jupyter <a href='command:jupyter.viewOutput'>log</a> for further details."
     ]
    }
   ],
   "source": [
    "gtm.run(calculateCurrent=True, calculateNottinghamHeat=True, calculateSpectrum=True)\n",
    "\n",
    "print(f'Current Density: ${gtm.getCurrentDensity()},\\nNottingham Heat: ${gtm.getNottinghamHeat()},\\nElectronSpectrum: ${gtm.getElectronSpectrum()}')"
   ]
  },
  {
   "attachments": {},
   "cell_type": "markdown",
   "metadata": {},
   "source": [
    "TEST 6: instantiating SEMICONDUCTOR"
   ]
  },
  {
   "cell_type": "code",
   "execution_count": null,
   "metadata": {},
   "outputs": [
    {
     "name": "stdout",
     "output_type": "stream",
     "text": [
      "<getelec.SemiconductorEmitter object at 0x7f438f3429a0>\n"
     ]
    },
    {
     "data": {
      "text/plain": [
       "<getelec.GETELECModel at 0x7f438f342940>"
      ]
     },
     "execution_count": 15,
     "metadata": {},
     "output_type": "execute_result"
    }
   ],
   "source": [
    "gtm = GTM()\n",
    "\n",
    "gtm.setParameters(emitterType='semiconductor', field = field, radius = radius, gamma = gamma, conductionBandBottom = conductionBandBottom, fermiLevel = fermiLevel, bandGap = bandGap, effectiveMassConduction = effectiveMassConduction, effectiveMassValence = effectiveMassValence, numberOfSpectrumPoints = 8, temperature = temperature, workFunction = workFunction)"
   ]
  },
  {
   "cell_type": "code",
   "execution_count": null,
   "metadata": {},
   "outputs": [
    {
     "name": "stdout",
     "output_type": "stream",
     "text": [
      "<getelec.SemiconductorEmitter object at 0x7f438f3429a0>\n"
     ]
    }
   ],
   "source": [
    "gtm.getParameters()\n",
    "print(gtm.emitter)"
   ]
  },
  {
   "cell_type": "code",
   "execution_count": null,
   "metadata": {},
   "outputs": [
    {
     "name": "stderr",
     "output_type": "stream",
     "text": [
      "Exception in thread Thread-6:\n",
      "Traceback (most recent call last):\n",
      "  File \"/usr/lib/python3.8/threading.py\", line 932, in _bootstrap_inner\n",
      "    self.run()\n",
      "  File \"/usr/lib/python3.8/threading.py\", line 870, in run\n",
      "    self._target(*self._args, **self._kwargs)\n",
      "  File \"/home/mikael/GETELEC/src/getelec.py\", line 1513, in __run_semiconductor_worker\n",
      "    emitter.setParameters(self._getArgument(field, idx), self._getArgument(radius, idx), self._getArgument(gamma, idx), conductionBandBottom, workFunction, bandGap, self._getArgument(kT, idx), effectiveMassConduction, effectiveMassValence)\n",
      "  File \"/home/mikael/GETELEC/src/getelec.py\", line 1094, in setParameters\n",
      "    self.conductionEmitter.setParameters(workfunction=workFunction, kT=kT, effectiveMass=effectiveMassConduction, energyBandLimit=conductionBandBottom)\n",
      "  File \"/home/mikael/GETELEC/src/getelec.py\", line 592, in setParameters\n",
      "    self._calculateIntegrationLimits()\n",
      "  File \"/home/mikael/GETELEC/src/getelec.py\", line 825, in _calculateIntegrationLimits\n",
      "    maxBetaEnergy = min([self.workFunction, self.barrier.maxEnergyDepth, self.workFunction - self.energyBandLimit])\n",
      "ValueError: The truth value of an array with more than one element is ambiguous. Use a.any() or a.all()\n"
     ]
    },
    {
     "ename": "TypeError",
     "evalue": "'NoneType' object is not subscriptable",
     "output_type": "error",
     "traceback": [
      "\u001b[0;31m---------------------------------------------------------------------------\u001b[0m",
      "\u001b[0;31mTypeError\u001b[0m                                 Traceback (most recent call last)",
      "\u001b[1;32m/home/mikael/GETELEC/tests/mikaelTests/getelecModel_metrics.ipynb Cell 26\u001b[0m in \u001b[0;36m1\n\u001b[0;32m----> <a href='vscode-notebook-cell://ssh-remote%2Bspinor.matter.ut.ee/home/mikael/GETELEC/tests/mikaelTests/getelecModel_metrics.ipynb#X34sdnNjb2RlLXJlbW90ZQ%3D%3D?line=0'>1</a>\u001b[0m gtm\u001b[39m.\u001b[39;49mrun(\u001b[39mTrue\u001b[39;49;00m, \u001b[39mTrue\u001b[39;49;00m, \u001b[39mTrue\u001b[39;49;00m)\n\u001b[1;32m      <a href='vscode-notebook-cell://ssh-remote%2Bspinor.matter.ut.ee/home/mikael/GETELEC/tests/mikaelTests/getelecModel_metrics.ipynb#X34sdnNjb2RlLXJlbW90ZQ%3D%3D?line=2'>3</a>\u001b[0m \u001b[39mprint\u001b[39m(\u001b[39mf\u001b[39m\u001b[39m'\u001b[39m\u001b[39mCurrent Density: $\u001b[39m\u001b[39m{\u001b[39;00mgtm\u001b[39m.\u001b[39mgetCurrentDensity()\u001b[39m}\u001b[39;00m\u001b[39m,\u001b[39m\u001b[39m\\n\u001b[39;00m\u001b[39mNottingham Heat: $\u001b[39m\u001b[39m{\u001b[39;00mgtm\u001b[39m.\u001b[39mgetNottinghamHeat()\u001b[39m}\u001b[39;00m\u001b[39m,\u001b[39m\u001b[39m\\n\u001b[39;00m\u001b[39mElectronSpectrum: $\u001b[39m\u001b[39m{\u001b[39;00mgtm\u001b[39m.\u001b[39mgetElectronSpectrum()\u001b[39m}\u001b[39;00m\u001b[39m'\u001b[39m)\n",
      "File \u001b[0;32m~/GETELEC/src/getelec.py:1601\u001b[0m, in \u001b[0;36mGETELECModel.run\u001b[0;34m(self, calculateCurrent, calculateNottinghamHeat, calculateSpectrum, nThreads)\u001b[0m\n\u001b[1;32m   1598\u001b[0m _electronSpectrum \u001b[39m=\u001b[39m {\u001b[39m'\u001b[39m\u001b[39menergy\u001b[39m\u001b[39m'\u001b[39m: [], \u001b[39m'\u001b[39m\u001b[39melectronCount\u001b[39m\u001b[39m'\u001b[39m: []}\n\u001b[1;32m   1600\u001b[0m \u001b[39mfor\u001b[39;00m result \u001b[39min\u001b[39;00m results:\n\u001b[0;32m-> 1601\u001b[0m     \u001b[39mif\u001b[39;00m(calculateCurrent): _currentDensity\u001b[39m.\u001b[39mappend(result[\u001b[39m'\u001b[39;49m\u001b[39mcurrentDensity\u001b[39;49m\u001b[39m'\u001b[39;49m])\n\u001b[1;32m   1602\u001b[0m     \u001b[39mif\u001b[39;00m(calculateNottinghamHeat): _nottinghamHeat\u001b[39m.\u001b[39mappend(result[\u001b[39m'\u001b[39m\u001b[39mnottinghamHeat\u001b[39m\u001b[39m'\u001b[39m])\n\u001b[1;32m   1603\u001b[0m     \u001b[39mif\u001b[39;00m(calculateSpectrum): \n",
      "\u001b[0;31mTypeError\u001b[0m: 'NoneType' object is not subscriptable"
     ]
    }
   ],
   "source": [
    "gtm.run(True, True, True)\n",
    "\n",
    "print(f'Current Density: ${gtm.getCurrentDensity()},\\nNottingham Heat: ${gtm.getNottinghamHeat()},\\nElectronSpectrum: ${gtm.getElectronSpectrum()}')"
   ]
  },
  {
   "cell_type": "code",
   "execution_count": null,
   "metadata": {},
   "outputs": [],
   "source": [
    "new_gtm = GTM('metal', field=field, radius=radius, gamma=gamma, workFunction=workFunction, temperature=temperature)"
   ]
  },
  {
   "cell_type": "code",
   "execution_count": null,
   "metadata": {},
   "outputs": [
    {
     "data": {
      "text/plain": [
       "array([2.15675678e-27, 4.99385567e-16, 1.06113266e-11, 1.57722206e-09,\n",
       "       3.26236555e-08])"
      ]
     },
     "execution_count": 19,
     "metadata": {},
     "output_type": "execute_result"
    }
   ],
   "source": [
    "new_gtm.calculateCurrentDensity().currentDensity"
   ]
  }
 ],
 "metadata": {
  "kernelspec": {
   "display_name": "Python 3",
   "language": "python",
   "name": "python3"
  },
  "language_info": {
   "codemirror_mode": {
    "name": "ipython",
    "version": 3
   },
   "file_extension": ".py",
   "mimetype": "text/x-python",
   "name": "python",
   "nbconvert_exporter": "python",
   "pygments_lexer": "ipython3",
   "version": "3.8.10"
  },
  "orig_nbformat": 4,
  "vscode": {
   "interpreter": {
    "hash": "916dbcbb3f70747c44a77c7bcd40155683ae19c65e1c03b4aa3499c5328201f1"
   }
  }
 },
 "nbformat": 4,
 "nbformat_minor": 2
}
